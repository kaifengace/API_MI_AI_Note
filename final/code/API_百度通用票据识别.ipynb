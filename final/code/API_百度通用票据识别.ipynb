{
 "cells": [
  {
   "cell_type": "code",
   "execution_count": 3,
   "metadata": {},
   "outputs": [
    {
     "name": "stdout",
     "output_type": "stream",
     "text": [
      "{'log_id': 8705784204880690397, 'words_result_num': 16, 'words_result': [{'location': {'width': 328, 'top': 41, 'left': 129, 'height': 45}, 'words': '湖北省医疗单位诊收费票据'}, {'location': {'width': 43, 'top': 77, 'left': 235, 'height': 14}, 'words': '北省'}, {'location': {'width': 98, 'top': 73, 'left': 410, 'height': 28}, 'words': 'ⅢⅢⅢ'}, {'location': {'width': 67, 'top': 94, 'left': 89, 'height': 17}, 'words': '收费单位:'}, {'location': {'width': 58, 'top': 112, 'left': 91, 'height': 16}, 'words': '日期'}, {'location': {'width': 284, 'top': 97, 'left': 221, 'height': 24}, 'words': '政部2015)1102440010'}, {'location': {'width': 69, 'top': 130, 'left': 89, 'height': 18}, 'words': '社保号码:'}, {'location': {'width': 55, 'top': 123, 'left': 326, 'height': 16}, 'words': '医保类型'}, {'location': {'width': 23, 'top': 142, 'left': 40, 'height': 16}, 'words': '('}, {'location': {'width': 37, 'top': 157, 'left': 100, 'height': 15}, 'words': '姓名:'}, {'location': {'width': 203, 'top': 146, 'left': 212, 'height': 24}, 'words': '性别:年龄:就诊科室'}, {'location': {'width': 39, 'top': 205, 'left': 514, 'height': 108}, 'words': '要双'}, {'location': {'width': 26, 'top': 289, 'left': 9, 'height': 116}, 'words': '巴'}, {'location': {'width': 124, 'top': 386, 'left': 91, 'height': 23}, 'words': '金额合计(大写):'}, {'location': {'width': 44, 'top': 414, 'left': 89, 'height': 19}, 'words': '收款:'}, {'location': {'width': 72, 'top': 399, 'left': 336, 'height': 25}, 'words': '机制号:'}]}\n"
     ]
    }
   ],
   "source": [
    "# encoding:utf-8\n",
    "\n",
    "import requests\n",
    "import base64\n",
    "\n",
    "'''\n",
    "火车票票据识别\n",
    "'''\n",
    "\n",
    "request_url = \"https://aip.baidubce.com/rest/2.0/ocr/v1/receipt\"\n",
    "# 二进制方式打开图片文件\n",
    "f = open(r'C:\\Users\\HUKAIFENG\\Desktop\\final\\ag.jpg', 'rb')\n",
    "img = base64.b64encode(f.read())\n",
    "\n",
    "params = {\"image\":img}\n",
    "access_token = '24.77e751e859a67563c9a22acd349e22da.2592000.1580141682.282335-18131572'\n",
    "request_url = request_url + \"?access_token=\" + access_token\n",
    "headers = {'content-type': 'application/x-www-form-urlencoded'}\n",
    "response = requests.post(request_url, data=params, headers=headers)\n",
    "if response:\n",
    "    print (response.json())"
   ]
  },
  {
   "cell_type": "code",
   "execution_count": null,
   "metadata": {},
   "outputs": [],
   "source": []
  }
 ],
 "metadata": {
  "kernelspec": {
   "display_name": "Python 3",
   "language": "python",
   "name": "python3"
  },
  "language_info": {
   "codemirror_mode": {
    "name": "ipython",
    "version": 3
   },
   "file_extension": ".py",
   "mimetype": "text/x-python",
   "name": "python",
   "nbconvert_exporter": "python",
   "pygments_lexer": "ipython3",
   "version": "3.7.4"
  }
 },
 "nbformat": 4,
 "nbformat_minor": 2
}
