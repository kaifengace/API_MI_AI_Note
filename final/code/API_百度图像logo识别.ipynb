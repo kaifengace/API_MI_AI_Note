{
 "cells": [
  {
   "cell_type": "code",
   "execution_count": 5,
   "metadata": {},
   "outputs": [
    {
     "name": "stdout",
     "output_type": "stream",
     "text": [
      "{'log_id': 3951622995128103741, 'result_num': 6, 'result': [{'name': '李宁', 'probability': 0.99009350250507, 'location': {'width': 146, 'top': 77, 'height': 24, 'left': 3}, 'type': 0}, {'name': '李宁', 'probability': 0.95262044063513, 'location': {'width': 146, 'top': 77, 'height': 24, 'left': 3}, 'type': 1}, {'name': '李宁', 'probability': 0.93176797161932, 'location': {'width': 149, 'top': 33, 'height': 45, 'left': 0}, 'type': 1}, {'name': '李宁', 'probability': 0.88242241487665, 'location': {'width': 149, 'top': 33, 'height': 45, 'left': 0}, 'type': 0}, {'name': '李宁', 'probability': 0.55382423400879, 'location': {'width': 72, 'top': 34, 'height': 42, 'left': 9}, 'type': 1}, {'name': '李宁', 'probability': 0.55243577075142, 'location': {'width': 72, 'top': 34, 'height': 42, 'left': 9}, 'type': 0}]}\n"
     ]
    }
   ],
   "source": [
    "# encoding:utf-8\n",
    "\n",
    "import requests\n",
    "import base64\n",
    "\n",
    "'''\n",
    "logo商标识别\n",
    "'''\n",
    "\n",
    "request_url = \"https://aip.baidubce.com/rest/2.0/image-classify/v2/logo\"\n",
    "# 二进制方式打开图片文件\n",
    "f = open(r'C:\\Users\\HUKAIFENG\\Desktop\\final\\as.jpg', 'rb')\n",
    "img = base64.b64encode(f.read())\n",
    "\n",
    "params = {\"image\":img}\n",
    "access_token = '24.77e751e859a67563c9a22acd349e22da.2592000.1580141682.282335-18131572'\n",
    "request_url = request_url + \"?access_token=\" + access_token\n",
    "headers = {'content-type': 'application/x-www-form-urlencoded'}\n",
    "response = requests.post(request_url, data=params, headers=headers)\n",
    "if response:\n",
    "    print (response.json())"
   ]
  },
  {
   "cell_type": "code",
   "execution_count": null,
   "metadata": {},
   "outputs": [],
   "source": []
  }
 ],
 "metadata": {
  "kernelspec": {
   "display_name": "Python 3",
   "language": "python",
   "name": "python3"
  },
  "language_info": {
   "codemirror_mode": {
    "name": "ipython",
    "version": 3
   },
   "file_extension": ".py",
   "mimetype": "text/x-python",
   "name": "python",
   "nbconvert_exporter": "python",
   "pygments_lexer": "ipython3",
   "version": "3.7.4"
  }
 },
 "nbformat": 4,
 "nbformat_minor": 2
}
