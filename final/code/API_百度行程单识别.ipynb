{
 "cells": [
  {
   "cell_type": "code",
   "execution_count": 2,
   "metadata": {},
   "outputs": [
    {
     "name": "stdout",
     "output_type": "stream",
     "text": [
      "{'log_id': 1171793685240102493, 'words_result_num': 15, 'words_result': [{'location': {'width': 67, 'top': 6, 'left': 15, 'height': 12}, 'words': 'Z5Q008000'}, {'location': {'width': 57, 'top': 6, 'left': 158, 'height': 14}, 'words': '候车;二层'}, {'location': {'width': 194, 'top': 18, 'left': 13, 'height': 18}, 'words': '六安站D2193汉口站'}, {'location': {'width': 24, 'top': 34, 'left': 32, 'height': 9}, 'words': \" Lu'an\"}, {'location': {'width': 31, 'top': 36, 'left': 162, 'height': 9}, 'words': ' Hankou'}, {'location': {'width': 183, 'top': 45, 'left': 5, 'height': 11}, 'words': '2019年10月02日19:34开10车14A号'}, {'location': {'width': 44, 'top': 59, 'left': 7, 'height': 9}, 'words': '￥101.0元'}, {'location': {'width': 10, 'top': 59, 'left': 94, 'height': 9}, 'words': '网'}, {'location': {'width': 29, 'top': 59, 'left': 158, 'height': 11}, 'words': '二等座'}, {'location': {'width': 68, 'top': 70, 'left': 6, 'height': 11}, 'words': '限乘当日当次车'}, {'location': {'width': 39, 'top': 81, 'left': 6, 'height': 10}, 'words': '始发改签'}, {'location': {'width': 136, 'top': 95, 'left': 6, 'height': 11}, 'words': '4104211994****4512孙佳网'}, {'location': {'width': 127, 'top': 108, 'left': 32, 'height': 11}, 'words': '买请到12306爱到953061'}, {'location': {'width': 83, 'top': 119, 'left': 46, 'height': 10}, 'words': '中国铁路视您旅途愉快'}, {'location': {'width': 127, 'top': 132, 'left': 7, 'height': 11}, 'words': '411573005103Q0800六售'}]}\n"
     ]
    }
   ],
   "source": [
    "# encoding:utf-8\n",
    "\n",
    "import requests\n",
    "import base64\n",
    "\n",
    "'''\n",
    "火车票票据识别\n",
    "'''\n",
    "\n",
    "request_url = \"https://aip.baidubce.com/rest/2.0/ocr/v1/receipt\"\n",
    "# 二进制方式打开图片文件\n",
    "f = open(r'C:\\Users\\HUKAIFENG\\Desktop\\final\\ad.jpg', 'rb')\n",
    "img = base64.b64encode(f.read())\n",
    "\n",
    "params = {\"image\":img}\n",
    "access_token = '24.77e751e859a67563c9a22acd349e22da.2592000.1580141682.282335-18131572'\n",
    "request_url = request_url + \"?access_token=\" + access_token\n",
    "headers = {'content-type': 'application/x-www-form-urlencoded'}\n",
    "response = requests.post(request_url, data=params, headers=headers)\n",
    "if response:\n",
    "    print (response.json())"
   ]
  },
  {
   "cell_type": "code",
   "execution_count": null,
   "metadata": {},
   "outputs": [],
   "source": []
  }
 ],
 "metadata": {
  "kernelspec": {
   "display_name": "Python 3",
   "language": "python",
   "name": "python3"
  },
  "language_info": {
   "codemirror_mode": {
    "name": "ipython",
    "version": 3
   },
   "file_extension": ".py",
   "mimetype": "text/x-python",
   "name": "python",
   "nbconvert_exporter": "python",
   "pygments_lexer": "ipython3",
   "version": "3.7.4"
  }
 },
 "nbformat": 4,
 "nbformat_minor": 2
}
