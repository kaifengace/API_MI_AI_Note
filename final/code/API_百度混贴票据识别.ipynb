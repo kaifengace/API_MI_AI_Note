{
 "cells": [
  {
   "cell_type": "code",
   "execution_count": 10,
   "metadata": {},
   "outputs": [
    {
     "name": "stdout",
     "output_type": "stream",
     "text": [
      "a bytes-like object is required, not 'str'\n"
     ]
    }
   ],
   "source": [
    "# -*- coding:UTF-8 -*-\n",
    "# -*- encoding: utf-8 -*-\n",
    "import base64\n",
    "import requests\n",
    "from urllib.parse import quote\n",
    "\n",
    "\n",
    "headers = {\n",
    "        'Content-Type': \"application/x-www-form-urlencoded\",\n",
    "        'charset': \"utf-8\"\n",
    "    }\n",
    "if __name__ == '__main__':\n",
    "    # 代码中所需的工具包requests\n",
    "    # 安装方式:pip install requests\n",
    "    # iocr识别api_url\n",
    "    recognise_api_url = \"https://aip.baidubce.com/rest/2.0/solution/v1/iocr/recognise/finance\"\n",
    "\n",
    "\n",
    "    access_token = \"24.77e751e859a67563c9a22acd349e22da.2592000.1580141682.282335-18131572\"\n",
    "\n",
    "    detectorId = 0\n",
    "\n",
    "    # 测试数据路径\n",
    "    image_path = \"Desktop/final/af.jpg\"\n",
    "    try:\n",
    "        with open(image_path, 'rb') as f:\n",
    "            image_data = f.read()\n",
    "        image_b64 = base64.b64encode(image_data).replace(\"\\r\", \"\")\n",
    "        # 请求模板的bodys\n",
    "        recognise_bodys = \"access_token=\" + access_token + \"&templateSign=\" + templateSign + \\\n",
    "                \"&image=\" + quote(image_b64.encode(\"utf-8\"))\n",
    "        # 请求分类器的bodys\n",
    "        classifier_bodys = \"access_token=\" + access_token + \"&classifierId=\" + classifierId + \\\n",
    "                \"&image=\" + quote(image_b64.encode(\"utf-8\"))\n",
    "        # 混贴票据识别的bodys\n",
    "        detector_bodys = \"access_token=\" + access_token + \"&detectorId=\" + str(detectorId) + \\\n",
    "                \"&image=\" + quote(image_b64.encode(\"utf-8\"))\n",
    "        # 请求模板识别\n",
    "        response = requests.post(recognise_api_url, data=recognise_bodys, headers=headers)\n",
    "        # 请求分类器识别\n",
    "        # response = requests.post(recognise_api_url, data=classifier_bodys, headers=headers)\n",
    "        # 请求混贴票据识别\n",
    "        # response = requests.post(recognise_api_url, data=detector_bodys, headers=headers)\n",
    "        print(response.text)\n",
    "    except Exception as e:\n",
    "        print(e)"
   ]
  },
  {
   "cell_type": "code",
   "execution_count": null,
   "metadata": {},
   "outputs": [],
   "source": []
  }
 ],
 "metadata": {
  "kernelspec": {
   "display_name": "Python 3",
   "language": "python",
   "name": "python3"
  },
  "language_info": {
   "codemirror_mode": {
    "name": "ipython",
    "version": 3
   },
   "file_extension": ".py",
   "mimetype": "text/x-python",
   "name": "python",
   "nbconvert_exporter": "python",
   "pygments_lexer": "ipython3",
   "version": "3.7.4"
  }
 },
 "nbformat": 4,
 "nbformat_minor": 2
}
