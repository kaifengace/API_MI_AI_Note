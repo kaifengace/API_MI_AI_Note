{
 "cells": [
  {
   "cell_type": "code",
   "execution_count": null,
   "metadata": {},
   "outputs": [],
   "source": [
    "import urllib.request\n",
    "import urllib.parse\n",
    "import json\n",
    "import time\n",
    "import base64\n",
    "with open('1.jpg', 'rb') as f:  # 以二进制读取本地图片\n",
    "data = f.read()\n",
    "encodestr = str(base64.b64encode(data),'utf-8')\n",
    "\n",
    "# 请求头\n",
    "headers = {\n",
    "'Authorization': 'APPCODE 你自己的AppCode',\n",
    "'Content-Type': 'application/json; charset=UTF-8'\n",
    "}\n",
    "def posturl(url,data={}):\n",
    "    try:\n",
    "         params=json.dumps(dict).encode(encoding='UTF8')\n",
    "         req = urllib.request.Request(url, params, headers)\n",
    "         r = urllib.request.urlopen(req)\n",
    "         html =r.read()\n",
    "         r.close();\n",
    "         return html.decode(\"utf8\")\n",
    "     except urllib.error.HTTPError as e:\n",
    "         print(e.code)\n",
    "         print(e.read().decode(\"utf8\"))\n",
    "     time.sleep(1)\n",
    "if __name__==\"__main__\":\n",
    "     url_request=\"https://ocrapi-advanced.taobao.com/ocrservice/advanced\"\n",
    "     dict = {'img': encodestr}\n",
    "     html = posturl(url_request, data=dict)\n",
    "     print(html)"
   ]
  }
 ],
 "metadata": {
  "kernelspec": {
   "display_name": "Python 3",
   "language": "python",
   "name": "python3"
  },
  "language_info": {
   "codemirror_mode": {
    "name": "ipython",
    "version": 3
   },
   "file_extension": ".py",
   "mimetype": "text/x-python",
   "name": "python",
   "nbconvert_exporter": "python",
   "pygments_lexer": "ipython3",
   "version": "3.7.4"
  }
 },
 "nbformat": 4,
 "nbformat_minor": 2
}
